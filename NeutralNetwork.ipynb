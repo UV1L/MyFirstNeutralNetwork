{
  "nbformat": 4,
  "nbformat_minor": 0,
  "metadata": {
    "colab": {
      "name": "Untitled1.ipynb",
      "provenance": [],
      "collapsed_sections": [],
      "authorship_tag": "ABX9TyPY7EuqSS9IQ6CJvZVKPdR8",
      "include_colab_link": true
    },
    "kernelspec": {
      "name": "python3",
      "display_name": "Python 3"
    },
    "language_info": {
      "name": "python"
    },
    "accelerator": "GPU"
  },
  "cells": [
    {
      "cell_type": "markdown",
      "metadata": {
        "id": "view-in-github",
        "colab_type": "text"
      },
      "source": [
        "<a href=\"https://colab.research.google.com/github/UV1L/MyFirstNeutralNetwork/blob/main/NeutralNetwork.ipynb\" target=\"_parent\"><img src=\"https://colab.research.google.com/assets/colab-badge.svg\" alt=\"Open In Colab\"/></a>"
      ]
    },
    {
      "cell_type": "markdown",
      "metadata": {
        "id": "VSBOr52eBPRI"
      },
      "source": [
        "# **[Моя первая нейронка](https://)**"
      ]
    },
    {
      "cell_type": "code",
      "metadata": {
        "id": "1V7bT_cFEmIE"
      },
      "source": [
        ""
      ],
      "execution_count": null,
      "outputs": []
    },
    {
      "cell_type": "markdown",
      "metadata": {
        "id": "QklcD2ZTBxvX"
      },
      "source": [
        "Для начала загрузим токен для работы с API Kaggle:"
      ]
    },
    {
      "cell_type": "code",
      "metadata": {
        "id": "Tia2jLJrBT8n",
        "colab": {
          "resources": {
            "http://localhost:8080/nbextensions/google.colab/files.js": {
              "data": "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",
              "ok": true,
              "headers": [
                [
                  "content-type",
                  "application/javascript"
                ]
              ],
              "status": 200,
              "status_text": ""
            }
          },
          "base_uri": "https://localhost:8080/",
          "height": 94
        },
        "outputId": "5e3030a9-b237-4868-ef2f-577f72d5ba41"
      },
      "source": [
        "from google.colab import files\n",
        "\n",
        "\n",
        "token = files.upload()\n",
        "\n",
        "!mkdir /root/.kaggle\n",
        "!mv kaggle.json /root/.kaggle"
      ],
      "execution_count": null,
      "outputs": [
        {
          "output_type": "display_data",
          "data": {
            "text/html": [
              "\n",
              "     <input type=\"file\" id=\"files-15373034-5936-4f5b-8e84-e5f4df960f95\" name=\"files[]\" multiple disabled\n",
              "        style=\"border:none\" />\n",
              "     <output id=\"result-15373034-5936-4f5b-8e84-e5f4df960f95\">\n",
              "      Upload widget is only available when the cell has been executed in the\n",
              "      current browser session. Please rerun this cell to enable.\n",
              "      </output>\n",
              "      <script src=\"/nbextensions/google.colab/files.js\"></script> "
            ],
            "text/plain": [
              "<IPython.core.display.HTML object>"
            ]
          },
          "metadata": {
            "tags": []
          }
        },
        {
          "output_type": "stream",
          "text": [
            "Saving kaggle.json to kaggle.json\n",
            "mkdir: cannot create directory ‘/root/.kaggle’: File exists\n"
          ],
          "name": "stdout"
        }
      ]
    },
    {
      "cell_type": "markdown",
      "metadata": {
        "id": "cE9quazBD_Ua"
      },
      "source": [
        "Скачаем данные с соревнования https://www.kaggle.com/c/jigsaw-toxic-comment-classification-challenge"
      ]
    },
    {
      "cell_type": "code",
      "metadata": {
        "id": "nhfqBXgvD1UI",
        "colab": {
          "base_uri": "https://localhost:8080/"
        },
        "outputId": "da8a844e-17cd-41fa-f685-fba72d3a28bf"
      },
      "source": [
        "!kaggle competitions download -c jigsaw-toxic-comment-classification-challenge\n",
        "!unzip train.csv.zip\n",
        "!unzip test.csv.zip\n",
        "!unzip test_labels.csv.zip"
      ],
      "execution_count": null,
      "outputs": [
        {
          "output_type": "stream",
          "text": [
            "Warning: Your Kaggle API key is readable by other users on this system! To fix this, you can run 'chmod 600 /root/.kaggle/kaggle.json'\n",
            "Warning: Looks like you're using an outdated API Version, please consider updating (server 1.5.12 / client 1.5.4)\n",
            "test_labels.csv.zip: Skipping, found more recently modified local copy (use --force to force download)\n",
            "sample_submission.csv.zip: Skipping, found more recently modified local copy (use --force to force download)\n",
            "train.csv.zip: Skipping, found more recently modified local copy (use --force to force download)\n",
            "test.csv.zip: Skipping, found more recently modified local copy (use --force to force download)\n",
            "Archive:  train.csv.zip\n",
            "replace train.csv? [y]es, [n]o, [A]ll, [N]one, [r]ename: A\n",
            "  inflating: train.csv               \n",
            "Archive:  test.csv.zip\n",
            "replace test.csv? [y]es, [n]o, [A]ll, [N]one, [r]ename: A\n",
            "  inflating: test.csv                \n",
            "Archive:  test_labels.csv.zip\n",
            "replace test_labels.csv? [y]es, [n]o, [A]ll, [N]one, [r]ename: A\n",
            "  inflating: test_labels.csv         \n"
          ],
          "name": "stdout"
        }
      ]
    },
    {
      "cell_type": "markdown",
      "metadata": {
        "id": "LVOk28u-FTEf"
      },
      "source": [
        "Вот пример входных данных для теста:"
      ]
    },
    {
      "cell_type": "code",
      "metadata": {
        "colab": {
          "base_uri": "https://localhost:8080/"
        },
        "id": "VIkt3Cb6FIO5",
        "outputId": "6287fdf7-30fe-43d2-8bf7-86389b22590c"
      },
      "source": [
        "!head -10 train.csv"
      ],
      "execution_count": null,
      "outputs": [
        {
          "output_type": "stream",
          "text": [
            "\"id\",\"comment_text\",\"toxic\",\"severe_toxic\",\"obscene\",\"threat\",\"insult\",\"identity_hate\"\n",
            "\"0000997932d777bf\",\"Explanation\n",
            "Why the edits made under my username Hardcore Metallica Fan were reverted? They weren't vandalisms, just closure on some GAs after I voted at New York Dolls FAC. And please don't remove the template from the talk page since I'm retired now.89.205.38.27\",0,0,0,0,0,0\n",
            "\"000103f0d9cfb60f\",\"D'aww! He matches this background colour I'm seemingly stuck with. Thanks.  (talk) 21:51, January 11, 2016 (UTC)\",0,0,0,0,0,0\n",
            "\"000113f07ec002fd\",\"Hey man, I'm really not trying to edit war. It's just that this guy is constantly removing relevant information and talking to me through edits instead of my talk page. He seems to care more about the formatting than the actual info.\",0,0,0,0,0,0\n",
            "\"0001b41b1c6bb37e\",\"\"\"\n",
            "More\n",
            "I can't make any real suggestions on improvement - I wondered if the section statistics should be later on, or a subsection of \"\"\"\"types of accidents\"\"\"\"  -I think the references may need tidying so that they are all in the exact same format ie date format etc. I can do that later on, if no-one else does first - if you have any preferences for formatting style on references or want to do it yourself please let me know.\n",
            "\n",
            "There appears to be a backlog on articles for review so I guess there may be a delay until a reviewer turns up. It's listed in the relevant form eg Wikipedia:Good_article_nominations#Transport  \"\"\",0,0,0,0,0,0\n"
          ],
          "name": "stdout"
        }
      ]
    },
    {
      "cell_type": "markdown",
      "metadata": {
        "id": "BCrHYBZoGJcg"
      },
      "source": [
        "Запишем данные из csv в переменную"
      ]
    },
    {
      "cell_type": "code",
      "metadata": {
        "id": "jtuA9v1AGPmq"
      },
      "source": [
        "import pandas as pd\n",
        "\n",
        "\n",
        "csv_train_data = pd.read_csv(\"train.csv\")\n",
        "comments = csv_train_data[\"comment_text\"]\n",
        "y_train = csv_train_data[[\"toxic\",\n",
        "                          \"severe_toxic\",\n",
        "                          \"obscene\",\n",
        "                          \"threat\",\n",
        "                          \"insult\",\n",
        "                          \"identity_hate\"\n",
        "                          ]]"
      ],
      "execution_count": null,
      "outputs": []
    },
    {
      "cell_type": "markdown",
      "metadata": {
        "id": "wjgGXMbxHrYk"
      },
      "source": [
        "Создаем токенизатор и обучаем его\n",
        "\n",
        "Максимальное число слов = 10000"
      ]
    },
    {
      "cell_type": "code",
      "metadata": {
        "id": "HyIzQpa8Hqmt"
      },
      "source": [
        "from tensorflow.keras.preprocessing.text import *\n",
        "\n",
        "\n",
        "my_tokenizer = Tokenizer(num_words=10000)"
      ],
      "execution_count": null,
      "outputs": []
    },
    {
      "cell_type": "markdown",
      "metadata": {
        "id": "Fp8T5ZgwOFnf"
      },
      "source": [
        "Обучаем токенизатор на тестовых комментариях, которые мы до этого получили"
      ]
    },
    {
      "cell_type": "code",
      "metadata": {
        "colab": {
          "base_uri": "https://localhost:8080/"
        },
        "id": "-12YwjSmOQ7q",
        "outputId": "6b9c5b09-0716-4ce9-992a-59f4dd0408ed"
      },
      "source": [
        "my_tokenizer.fit_on_texts(comments)\n",
        "my_tokenizer.word_index"
      ],
      "execution_count": null,
      "outputs": [
        {
          "output_type": "execute_result",
          "data": {
            "text/plain": [
              "{'the': 1,\n",
              " 'to': 2,\n",
              " 'of': 3,\n",
              " 'and': 4,\n",
              " 'a': 5,\n",
              " 'you': 6,\n",
              " 'i': 7,\n",
              " 'is': 8,\n",
              " 'that': 9,\n",
              " 'in': 10,\n",
              " 'it': 11,\n",
              " 'for': 12,\n",
              " 'this': 13,\n",
              " 'not': 14,\n",
              " 'on': 15,\n",
              " 'be': 16,\n",
              " 'as': 17,\n",
              " 'have': 18,\n",
              " 'are': 19,\n",
              " 'your': 20,\n",
              " 'with': 21,\n",
              " 'if': 22,\n",
              " 'article': 23,\n",
              " 'was': 24,\n",
              " 'or': 25,\n",
              " 'but': 26,\n",
              " 'page': 27,\n",
              " 'wikipedia': 28,\n",
              " 'my': 29,\n",
              " 'an': 30,\n",
              " 'from': 31,\n",
              " 'by': 32,\n",
              " 'do': 33,\n",
              " 'at': 34,\n",
              " 'me': 35,\n",
              " 'about': 36,\n",
              " 'so': 37,\n",
              " 'talk': 38,\n",
              " 'what': 39,\n",
              " 'can': 40,\n",
              " 'there': 41,\n",
              " 'all': 42,\n",
              " 'has': 43,\n",
              " 'will': 44,\n",
              " 'please': 45,\n",
              " 'no': 46,\n",
              " 'would': 47,\n",
              " 'one': 48,\n",
              " 'like': 49,\n",
              " 'just': 50,\n",
              " 'they': 51,\n",
              " 'he': 52,\n",
              " 'which': 53,\n",
              " 'any': 54,\n",
              " 'been': 55,\n",
              " 'should': 56,\n",
              " 'more': 57,\n",
              " 'we': 58,\n",
              " \"don't\": 59,\n",
              " 'some': 60,\n",
              " 'other': 61,\n",
              " 'who': 62,\n",
              " 'here': 63,\n",
              " 'see': 64,\n",
              " 'also': 65,\n",
              " 'his': 66,\n",
              " 'think': 67,\n",
              " 'because': 68,\n",
              " 'know': 69,\n",
              " 'how': 70,\n",
              " 'edit': 71,\n",
              " 'am': 72,\n",
              " \"i'm\": 73,\n",
              " 'people': 74,\n",
              " 'why': 75,\n",
              " 'up': 76,\n",
              " 'only': 77,\n",
              " \"it's\": 78,\n",
              " 'out': 79,\n",
              " 'articles': 80,\n",
              " 'use': 81,\n",
              " 'when': 82,\n",
              " 'then': 83,\n",
              " 'time': 84,\n",
              " 'may': 85,\n",
              " 'were': 86,\n",
              " 'did': 87,\n",
              " 'them': 88,\n",
              " 'now': 89,\n",
              " 'being': 90,\n",
              " 'user': 91,\n",
              " 'their': 92,\n",
              " 'than': 93,\n",
              " 'thanks': 94,\n",
              " 'even': 95,\n",
              " 'get': 96,\n",
              " 'make': 97,\n",
              " 'good': 98,\n",
              " 'had': 99,\n",
              " 'well': 100,\n",
              " 'very': 101,\n",
              " 'information': 102,\n",
              " 'does': 103,\n",
              " 'could': 104,\n",
              " 'want': 105,\n",
              " 'deletion': 106,\n",
              " 'its': 107,\n",
              " 'such': 108,\n",
              " 'sources': 109,\n",
              " 'way': 110,\n",
              " 'name': 111,\n",
              " 'these': 112,\n",
              " 'first': 113,\n",
              " 'wp': 114,\n",
              " 'help': 115,\n",
              " 'pages': 116,\n",
              " 'new': 117,\n",
              " 'image': 118,\n",
              " 'source': 119,\n",
              " 'editing': 120,\n",
              " 'go': 121,\n",
              " 'need': 122,\n",
              " 'section': 123,\n",
              " 'say': 124,\n",
              " 'again': 125,\n",
              " 'edits': 126,\n",
              " 'thank': 127,\n",
              " 'where': 128,\n",
              " 'fuck': 129,\n",
              " 'made': 130,\n",
              " 'many': 131,\n",
              " 'much': 132,\n",
              " 'used': 133,\n",
              " 'really': 134,\n",
              " 'most': 135,\n",
              " 'deleted': 136,\n",
              " 'discussion': 137,\n",
              " 'same': 138,\n",
              " 'find': 139,\n",
              " 'into': 140,\n",
              " 'work': 141,\n",
              " 'those': 142,\n",
              " 'since': 143,\n",
              " \"i've\": 144,\n",
              " 'right': 145,\n",
              " 'point': 146,\n",
              " 'before': 147,\n",
              " 'after': 148,\n",
              " 'add': 149,\n",
              " 'read': 150,\n",
              " 'look': 151,\n",
              " 'over': 152,\n",
              " 'him': 153,\n",
              " 'take': 154,\n",
              " 'two': 155,\n",
              " 'still': 156,\n",
              " 'back': 157,\n",
              " 'wiki': 158,\n",
              " 'someone': 159,\n",
              " 'fact': 160,\n",
              " 'hi': 161,\n",
              " 'too': 162,\n",
              " 'list': 163,\n",
              " 'link': 164,\n",
              " 'own': 165,\n",
              " 'said': 166,\n",
              " 'something': 167,\n",
              " 'going': 168,\n",
              " 'blocked': 169,\n",
              " '1': 170,\n",
              " '2': 171,\n",
              " 'stop': 172,\n",
              " \"you're\": 173,\n",
              " 'content': 174,\n",
              " 'without': 175,\n",
              " 'block': 176,\n",
              " 'under': 177,\n",
              " 'history': 178,\n",
              " 'http': 179,\n",
              " 'our': 180,\n",
              " 'added': 181,\n",
              " 'utc': 182,\n",
              " 'editors': 183,\n",
              " 'another': 184,\n",
              " 'removed': 185,\n",
              " 'her': 186,\n",
              " 'might': 187,\n",
              " 'welcome': 188,\n",
              " 'note': 189,\n",
              " 'however': 190,\n",
              " 'free': 191,\n",
              " 'place': 192,\n",
              " 'sure': 193,\n",
              " 'case': 194,\n",
              " 'never': 195,\n",
              " \"doesn't\": 196,\n",
              " 'done': 197,\n",
              " 'us': 198,\n",
              " 'vandalism': 199,\n",
              " 'reason': 200,\n",
              " 'put': 201,\n",
              " 'comment': 202,\n",
              " 'personal': 203,\n",
              " 'better': 204,\n",
              " \"that's\": 205,\n",
              " 'yourself': 206,\n",
              " 'using': 207,\n",
              " 'seems': 208,\n",
              " 'ask': 209,\n",
              " 'actually': 210,\n",
              " 'question': 211,\n",
              " 'off': 212,\n",
              " 'while': 213,\n",
              " 'feel': 214,\n",
              " 'anything': 215,\n",
              " 'believe': 216,\n",
              " 'links': 217,\n",
              " 'person': 218,\n",
              " 'things': 219,\n",
              " 'both': 220,\n",
              " 'she': 221,\n",
              " 'best': 222,\n",
              " 'comments': 223,\n",
              " 'policy': 224,\n",
              " 'part': 225,\n",
              " 'hope': 226,\n",
              " 'against': 227,\n",
              " \"can't\": 228,\n",
              " 'already': 229,\n",
              " 'keep': 230,\n",
              " 'thing': 231,\n",
              " '3': 232,\n",
              " 'u': 233,\n",
              " \"didn't\": 234,\n",
              " 'questions': 235,\n",
              " \"i'll\": 236,\n",
              " 'com': 237,\n",
              " 'nothing': 238,\n",
              " 'change': 239,\n",
              " 'wrong': 240,\n",
              " 'though': 241,\n",
              " 'subject': 242,\n",
              " 'problem': 243,\n",
              " 'remove': 244,\n",
              " 'little': 245,\n",
              " 'copyright': 246,\n",
              " 'tag': 247,\n",
              " '•': 248,\n",
              " 'trying': 249,\n",
              " 'long': 250,\n",
              " 'must': 251,\n",
              " 'understand': 252,\n",
              " 'above': 253,\n",
              " 'speedy': 254,\n",
              " 'anyone': 255,\n",
              " 'few': 256,\n",
              " 'world': 257,\n",
              " 'issue': 258,\n",
              " 'last': 259,\n",
              " 'others': 260,\n",
              " 'give': 261,\n",
              " 'editor': 262,\n",
              " 'sorry': 263,\n",
              " 'agree': 264,\n",
              " 'reliable': 265,\n",
              " 'rather': 266,\n",
              " 'let': 267,\n",
              " 'years': 268,\n",
              " 'fair': 269,\n",
              " 'english': 270,\n",
              " 'different': 271,\n",
              " 'making': 272,\n",
              " 'reference': 273,\n",
              " 'come': 274,\n",
              " 'style': 275,\n",
              " 'text': 276,\n",
              " 'references': 277,\n",
              " 'mean': 278,\n",
              " 'try': 279,\n",
              " 'non': 280,\n",
              " 'continue': 281,\n",
              " 'doing': 282,\n",
              " 'great': 283,\n",
              " 'found': 284,\n",
              " 'leave': 285,\n",
              " 'word': 286,\n",
              " 'says': 287,\n",
              " 'got': 288,\n",
              " 'state': 289,\n",
              " 'original': 290,\n",
              " \"isn't\": 291,\n",
              " 'probably': 292,\n",
              " 'site': 293,\n",
              " 'adding': 294,\n",
              " 'every': 295,\n",
              " 'check': 296,\n",
              " 'day': 297,\n",
              " 'simply': 298,\n",
              " 'created': 299,\n",
              " 'life': 300,\n",
              " 'top': 301,\n",
              " 'hello': 302,\n",
              " 'show': 303,\n",
              " 'post': 304,\n",
              " 'either': 305,\n",
              " 'consensus': 306,\n",
              " 'ip': 307,\n",
              " 'least': 308,\n",
              " 'delete': 309,\n",
              " 'else': 310,\n",
              " 'e': 311,\n",
              " 'yes': 312,\n",
              " 'view': 313,\n",
              " 'war': 314,\n",
              " 'far': 315,\n",
              " 'notable': 316,\n",
              " 'enough': 317,\n",
              " 'request': 318,\n",
              " 'etc': 319,\n",
              " 'example': 320,\n",
              " 'opinion': 321,\n",
              " 'contributions': 322,\n",
              " 'called': 323,\n",
              " 'around': 324,\n",
              " 'through': 325,\n",
              " 'www': 326,\n",
              " 'between': 327,\n",
              " 'real': 328,\n",
              " 'yet': 329,\n",
              " 'write': 330,\n",
              " 'reverted': 331,\n",
              " 'book': 332,\n",
              " 'shit': 333,\n",
              " 'down': 334,\n",
              " 'matter': 335,\n",
              " 'admin': 336,\n",
              " 're': 337,\n",
              " 'thought': 338,\n",
              " 'given': 339,\n",
              " 'images': 340,\n",
              " 'account': 341,\n",
              " 'material': 342,\n",
              " 'users': 343,\n",
              " 'bad': 344,\n",
              " 'encyclopedia': 345,\n",
              " 'having': 346,\n",
              " 'clearly': 347,\n",
              " 'title': 348,\n",
              " 'message': 349,\n",
              " 'support': 350,\n",
              " 'needs': 351,\n",
              " 'lot': 352,\n",
              " 'old': 353,\n",
              " 'evidence': 354,\n",
              " '—': 355,\n",
              " 'ever': 356,\n",
              " 'maybe': 357,\n",
              " 's': 358,\n",
              " 'tell': 359,\n",
              " 'revert': 360,\n",
              " 'seem': 361,\n",
              " 'language': 362,\n",
              " 'instead': 363,\n",
              " 'correct': 364,\n",
              " 'template': 365,\n",
              " 'org': 366,\n",
              " 'number': 367,\n",
              " 'clear': 368,\n",
              " 'media': 369,\n",
              " 'important': 370,\n",
              " 'saying': 371,\n",
              " 'pov': 372,\n",
              " '5': 373,\n",
              " '4': 374,\n",
              " 'always': 375,\n",
              " 'written': 376,\n",
              " 'true': 377,\n",
              " 'oh': 378,\n",
              " 'term': 379,\n",
              " 'further': 380,\n",
              " 'states': 381,\n",
              " 'hate': 382,\n",
              " 'quite': 383,\n",
              " 'perhaps': 384,\n",
              " 'review': 385,\n",
              " 'until': 386,\n",
              " 'bit': 387,\n",
              " 'whether': 388,\n",
              " \"i'd\": 389,\n",
              " 'research': 390,\n",
              " 'consider': 391,\n",
              " 'claim': 392,\n",
              " 'guidelines': 393,\n",
              " 'fucking': 394,\n",
              " 'version': 395,\n",
              " 'once': 396,\n",
              " 'based': 397,\n",
              " 'criteria': 398,\n",
              " 'times': 399,\n",
              " 'nigger': 400,\n",
              " 'website': 401,\n",
              " 'getting': 402,\n",
              " 'suck': 403,\n",
              " 'mention': 404,\n",
              " 'three': 405,\n",
              " 'several': 406,\n",
              " 'makes': 407,\n",
              " 'considered': 408,\n",
              " 'words': 409,\n",
              " 'c': 410,\n",
              " 'year': 411,\n",
              " 'hey': 412,\n",
              " 'changes': 413,\n",
              " 'idea': 414,\n",
              " \"there's\": 415,\n",
              " 'cannot': 416,\n",
              " 'ass': 417,\n",
              " 'address': 418,\n",
              " 'notice': 419,\n",
              " 'current': 420,\n",
              " 'group': 421,\n",
              " 'left': 422,\n",
              " 'following': 423,\n",
              " 'listed': 424,\n",
              " 'each': 425,\n",
              " 'date': 426,\n",
              " 'second': 427,\n",
              " 'means': 428,\n",
              " 'facts': 429,\n",
              " 'rules': 430,\n",
              " 'general': 431,\n",
              " 'possible': 432,\n",
              " 'main': 433,\n",
              " 'care': 434,\n",
              " 'regarding': 435,\n",
              " 'american': 436,\n",
              " 'man': 437,\n",
              " 'start': 438,\n",
              " '10': 439,\n",
              " 'topic': 440,\n",
              " 'mentioned': 441,\n",
              " 'course': 442,\n",
              " 'attack': 443,\n",
              " 'kind': 444,\n",
              " 'whole': 445,\n",
              " 'statement': 446,\n",
              " 'known': 447,\n",
              " 'end': 448,\n",
              " 'include': 449,\n",
              " 'issues': 450,\n",
              " 'seen': 451,\n",
              " 'create': 452,\n",
              " 'jpg': 453,\n",
              " 'dont': 454,\n",
              " 'en': 455,\n",
              " 'gay': 456,\n",
              " 'less': 457,\n",
              " 'related': 458,\n",
              " 'call': 459,\n",
              " 'ok': 460,\n",
              " 'sense': 461,\n",
              " 'big': 462,\n",
              " 'suggest': 463,\n",
              " 'happy': 464,\n",
              " 'category': 465,\n",
              " 'including': 466,\n",
              " 'notability': 467,\n",
              " 'info': 468,\n",
              " '2005': 469,\n",
              " 'provide': 470,\n",
              " 'redirect': 471,\n",
              " 'days': 472,\n",
              " 'move': 473,\n",
              " 'myself': 474,\n",
              " 'sentence': 475,\n",
              " \"wikipedia's\": 476,\n",
              " 'love': 477,\n",
              " 'four': 478,\n",
              " 'appropriate': 479,\n",
              " 'school': 480,\n",
              " 'news': 481,\n",
              " 'project': 482,\n",
              " 'changed': 483,\n",
              " 'explain': 484,\n",
              " 'started': 485,\n",
              " 'neutral': 486,\n",
              " 'line': 487,\n",
              " 'mind': 488,\n",
              " 'anyway': 489,\n",
              " 'contribs': 490,\n",
              " 'included': 491,\n",
              " 'removing': 492,\n",
              " 'next': 493,\n",
              " 't': 494,\n",
              " 'looking': 495,\n",
              " 'picture': 496,\n",
              " 'specific': 497,\n",
              " 'community': 498,\n",
              " 'although': 499,\n",
              " 'per': 500,\n",
              " 'order': 501,\n",
              " 'relevant': 502,\n",
              " 'sign': 503,\n",
              " 'die': 504,\n",
              " 'answer': 505,\n",
              " 'away': 506,\n",
              " 'interest': 507,\n",
              " 'full': 508,\n",
              " 'warning': 509,\n",
              " 'lol': 510,\n",
              " 'summary': 511,\n",
              " 'recent': 512,\n",
              " 'later': 513,\n",
              " 'file': 514,\n",
              " 'policies': 515,\n",
              " \"you've\": 516,\n",
              " 'faith': 517,\n",
              " 'claims': 518,\n",
              " 'discuss': 519,\n",
              " 'attacks': 520,\n",
              " 'public': 521,\n",
              " '0': 522,\n",
              " 'currently': 523,\n",
              " 'wrote': 524,\n",
              " 'writing': 525,\n",
              " 'especially': 526,\n",
              " 'interested': 527,\n",
              " 'able': 528,\n",
              " 'wish': 529,\n",
              " 'taken': 530,\n",
              " '6': 531,\n",
              " 'names': 532,\n",
              " 'position': 533,\n",
              " 'single': 534,\n",
              " 'within': 535,\n",
              " 'stuff': 536,\n",
              " 'below': 537,\n",
              " '2006': 538,\n",
              " 'during': 539,\n",
              " 'wanted': 540,\n",
              " 'web': 541,\n",
              " 'appears': 542,\n",
              " 'official': 543,\n",
              " '20': 544,\n",
              " 'live': 545,\n",
              " 'certainly': 546,\n",
              " 'nice': 547,\n",
              " 'color': 548,\n",
              " 'self': 549,\n",
              " 'itself': 550,\n",
              " 'country': 551,\n",
              " 'everyone': 552,\n",
              " 'report': 553,\n",
              " 'anti': 554,\n",
              " 'background': 555,\n",
              " 'lead': 556,\n",
              " 'high': 557,\n",
              " 'common': 558,\n",
              " 'god': 559,\n",
              " 'unless': 560,\n",
              " 'according': 561,\n",
              " 'completely': 562,\n",
              " 'hard': 563,\n",
              " 'books': 564,\n",
              " 'pretty': 565,\n",
              " '7': 566,\n",
              " 'everything': 567,\n",
              " 'p': 568,\n",
              " 'published': 569,\n",
              " 'due': 570,\n",
              " '24': 571,\n",
              " 'process': 572,\n",
              " 'edited': 573,\n",
              " 'looks': 574,\n",
              " 'involved': 575,\n",
              " 'fat': 576,\n",
              " 'therefore': 577,\n",
              " \"won't\": 578,\n",
              " 'remember': 579,\n",
              " 'obviously': 580,\n",
              " 'power': 581,\n",
              " 'd': 582,\n",
              " 'future': 583,\n",
              " 'nor': 584,\n",
              " '100': 585,\n",
              " 'truth': 586,\n",
              " 'came': 587,\n",
              " 'sandbox': 588,\n",
              " '11': 589,\n",
              " 'response': 590,\n",
              " 'party': 591,\n",
              " 'reading': 592,\n",
              " 'stay': 593,\n",
              " 'past': 594,\n",
              " 'game': 595,\n",
              " 'learn': 596,\n",
              " 'admins': 597,\n",
              " 'quote': 598,\n",
              " 'asked': 599,\n",
              " \"wasn't\": 600,\n",
              " 'b': 601,\n",
              " 'city': 602,\n",
              " 'entry': 603,\n",
              " 'stupid': 604,\n",
              " \"he's\": 605,\n",
              " 'posted': 606,\n",
              " 'false': 607,\n",
              " 'faggot': 608,\n",
              " 'whatever': 609,\n",
              " 'google': 610,\n",
              " 'talking': 611,\n",
              " 'ago': 612,\n",
              " '8': 613,\n",
              " 'placed': 614,\n",
              " 'political': 615,\n",
              " 'similar': 616,\n",
              " 'today': 617,\n",
              " 'system': 618,\n",
              " 'administrator': 619,\n",
              " 'united': 620,\n",
              " 'argument': 621,\n",
              " 'paragraph': 622,\n",
              " 'working': 623,\n",
              " 'exactly': 624,\n",
              " '2007': 625,\n",
              " 'guy': 626,\n",
              " '12': 627,\n",
              " 'british': 628,\n",
              " 'took': 629,\n",
              " 'useful': 630,\n",
              " 'government': 631,\n",
              " 'search': 632,\n",
              " 'noticed': 633,\n",
              " 'moron': 634,\n",
              " 'regards': 635,\n",
              " 'small': 636,\n",
              " 'reasons': 637,\n",
              " 'side': 638,\n",
              " '2008': 639,\n",
              " 'form': 640,\n",
              " 'national': 641,\n",
              " 'dispute': 642,\n",
              " 'deleting': 643,\n",
              " 'five': 644,\n",
              " 'guess': 645,\n",
              " 'appreciate': 646,\n",
              " 'particular': 647,\n",
              " 'reverting': 648,\n",
              " 'major': 649,\n",
              " 'problems': 650,\n",
              " 'law': 651,\n",
              " '000': 652,\n",
              " '15': 653,\n",
              " 'npov': 654,\n",
              " 'bitch': 655,\n",
              " 'rule': 656,\n",
              " 'banned': 657,\n",
              " 'often': 658,\n",
              " 'provided': 659,\n",
              " 'music': 660,\n",
              " 'become': 661,\n",
              " 'wikiproject': 662,\n",
              " 'needed': 663,\n",
              " 'status': 664,\n",
              " 'reply': 665,\n",
              " 'knowledge': 666,\n",
              " 'tried': 667,\n",
              " 'along': 668,\n",
              " 'almost': 669,\n",
              " 'cheers': 670,\n",
              " 'stated': 671,\n",
              " 'username': 672,\n",
              " 'film': 673,\n",
              " '9': 674,\n",
              " 'taking': 675,\n",
              " 'fine': 676,\n",
              " '–': 677,\n",
              " 'company': 678,\n",
              " 'vandalize': 679,\n",
              " 'present': 680,\n",
              " 'certain': 681,\n",
              " 'white': 682,\n",
              " 'follow': 683,\n",
              " 'sort': 684,\n",
              " 'otherwise': 685,\n",
              " 'terms': 686,\n",
              " 'points': 687,\n",
              " 'explanation': 688,\n",
              " 'uploaded': 689,\n",
              " \"haven't\": 690,\n",
              " 'description': 691,\n",
              " 'generally': 692,\n",
              " 'recently': 693,\n",
              " 'entire': 694,\n",
              " 'open': 695,\n",
              " 'story': 696,\n",
              " 'tags': 697,\n",
              " 'shows': 698,\n",
              " 'alone': 699,\n",
              " 'ban': 700,\n",
              " 'citation': 701,\n",
              " 'short': 702,\n",
              " 'definition': 703,\n",
              " '14': 704,\n",
              " 'cited': 705,\n",
              " 'likely': 706,\n",
              " 'aware': 707,\n",
              " 'g': 708,\n",
              " 'saw': 709,\n",
              " 'class': 710,\n",
              " 'type': 711,\n",
              " 'soon': 712,\n",
              " 'set': 713,\n",
              " 'week': 714,\n",
              " 'indeed': 715,\n",
              " 'band': 716,\n",
              " 'cite': 717,\n",
              " 'decide': 718,\n",
              " 'mr': 719,\n",
              " 'views': 720,\n",
              " '2004': 721,\n",
              " 'appear': 722,\n",
              " 'family': 723,\n",
              " 'simple': 724,\n",
              " 'area': 725,\n",
              " 'guys': 726,\n",
              " 'theory': 727,\n",
              " 'piece': 728,\n",
              " 'contributing': 729,\n",
              " 'contact': 730,\n",
              " 'external': 731,\n",
              " 'result': 732,\n",
              " 'test': 733,\n",
              " 'internet': 734,\n",
              " 'interesting': 735,\n",
              " 'unblock': 736,\n",
              " 'actual': 737,\n",
              " 'improve': 738,\n",
              " 'copy': 739,\n",
              " '16': 740,\n",
              " 'sourced': 741,\n",
              " 'jew': 742,\n",
              " 'told': 743,\n",
              " 'attention': 744,\n",
              " 'proposed': 745,\n",
              " 'obvious': 746,\n",
              " 'moved': 747,\n",
              " 'email': 748,\n",
              " 'uk': 749,\n",
              " 'members': 750,\n",
              " 'various': 751,\n",
              " 'allowed': 752,\n",
              " 'themselves': 753,\n",
              " 'conflict': 754,\n",
              " 'context': 755,\n",
              " \"article's\": 756,\n",
              " 'black': 757,\n",
              " 'university': 758,\n",
              " 'author': 759,\n",
              " 'thus': 760,\n",
              " 'disagree': 761,\n",
              " 'cunt': 762,\n",
              " 'john': 763,\n",
              " 'went': 764,\n",
              " 'citations': 765,\n",
              " 'sites': 766,\n",
              " 'jews': 767,\n",
              " 'actions': 768,\n",
              " 'hand': 769,\n",
              " 'bias': 770,\n",
              " 'previous': 771,\n",
              " 'third': 772,\n",
              " 'hours': 773,\n",
              " 'human': 774,\n",
              " '18': 775,\n",
              " 'works': 776,\n",
              " 'nonsense': 777,\n",
              " 'science': 778,\n",
              " 'ones': 779,\n",
              " 'death': 780,\n",
              " 'action': 781,\n",
              " '17': 782,\n",
              " 'enjoy': 783,\n",
              " \"aren't\": 784,\n",
              " 'job': 785,\n",
              " 'proper': 786,\n",
              " 'longer': 787,\n",
              " 'large': 788,\n",
              " 'together': 789,\n",
              " 'sucks': 790,\n",
              " '\\xa0': 791,\n",
              " '13': 792,\n",
              " 'addition': 793,\n",
              " \"wouldn't\": 794,\n",
              " 'avoid': 795,\n",
              " 'creating': 796,\n",
              " 'happened': 797,\n",
              " '19': 798,\n",
              " 'valid': 799,\n",
              " 'jewish': 800,\n",
              " 'german': 801,\n",
              " 'deal': 802,\n",
              " '21': 803,\n",
              " 'automatically': 804,\n",
              " 'biased': 805,\n",
              " 'proof': 806,\n",
              " 'worked': 807,\n",
              " 'im': 808,\n",
              " 'series': 809,\n",
              " 'dick': 810,\n",
              " 'goes': 811,\n",
              " 'himself': 812,\n",
              " 'seriously': 813,\n",
              " \"what's\": 814,\n",
              " '23': 815,\n",
              " 'level': 816,\n",
              " 'standard': 817,\n",
              " 'f': 818,\n",
              " '2009': 819,\n",
              " 'accepted': 820,\n",
              " 'respect': 821,\n",
              " 'exist': 822,\n",
              " 'available': 823,\n",
              " 'de': 824,\n",
              " 'helpful': 825,\n",
              " 'video': 826,\n",
              " 'comes': 827,\n",
              " '22': 828,\n",
              " 'meaning': 829,\n",
              " \"shouldn't\": 830,\n",
              " 'manual': 831,\n",
              " 'living': 832,\n",
              " 'opinions': 833,\n",
              " 'sex': 834,\n",
              " 'rights': 835,\n",
              " 'act': 836,\n",
              " 'tildes': 837,\n",
              " 'criticism': 838,\n",
              " 'play': 839,\n",
              " '2010': 840,\n",
              " 'necessary': 841,\n",
              " 'calling': 842,\n",
              " 'accept': 843,\n",
              " 'sections': 844,\n",
              " 'indicate': 845,\n",
              " 'personally': 846,\n",
              " 'yeah': 847,\n",
              " '30': 848,\n",
              " 'july': 849,\n",
              " 'hell': 850,\n",
              " 'accurate': 851,\n",
              " 'violation': 852,\n",
              " 'statements': 853,\n",
              " 'pig': 854,\n",
              " 'attempt': 855,\n",
              " 'months': 856,\n",
              " 'assume': 857,\n",
              " 'afd': 858,\n",
              " 'upon': 859,\n",
              " 'historical': 860,\n",
              " 'usually': 861,\n",
              " 'debate': 862,\n",
              " \"let's\": 863,\n",
              " 'pro': 864,\n",
              " 'details': 865,\n",
              " 'multiple': 866,\n",
              " 'blocking': 867,\n",
              " 'south': 868,\n",
              " 'rest': 869,\n",
              " 'tagged': 870,\n",
              " 'width': 871,\n",
              " 'serious': 872,\n",
              " 'doubt': 873,\n",
              " 'record': 874,\n",
              " 'greek': 875,\n",
              " 'm': 876,\n",
              " 'r': 877,\n",
              " \"they're\": 878,\n",
              " 'separate': 879,\n",
              " 'v': 880,\n",
              " 'space': 881,\n",
              " 'situation': 882,\n",
              " 'cause': 883,\n",
              " \"you'll\": 884,\n",
              " 'speak': 885,\n",
              " 'heard': 886,\n",
              " 'explaining': 887,\n",
              " 'okay': 888,\n",
              " 'refer': 889,\n",
              " 'fix': 890,\n",
              " 'run': 891,\n",
              " 'quality': 892,\n",
              " 'data': 893,\n",
              " 'complete': 894,\n",
              " 'penis': 895,\n",
              " 'sock': 896,\n",
              " 'church': 897,\n",
              " 'w': 898,\n",
              " 'messages': 899,\n",
              " 'none': 900,\n",
              " 'india': 901,\n",
              " 'asking': 902,\n",
              " 'august': 903,\n",
              " 'online': 904,\n",
              " 'lack': 905,\n",
              " 'legal': 906,\n",
              " 'period': 907,\n",
              " 'freedom': 908,\n",
              " 'team': 909,\n",
              " 'military': 910,\n",
              " 'rationale': 911,\n",
              " 'behavior': 912,\n",
              " 'prove': 913,\n",
              " 'apparently': 914,\n",
              " 'access': 915,\n",
              " 'special': 916,\n",
              " 'close': 917,\n",
              " 'changing': 918,\n",
              " 'bullshit': 919,\n",
              " 'directly': 920,\n",
              " 'watch': 921,\n",
              " 'culture': 922,\n",
              " 'difference': 923,\n",
              " 'march': 924,\n",
              " 'early': 925,\n",
              " 'box': 926,\n",
              " 'contribute': 927,\n",
              " 'wikipedian': 928,\n",
              " 'existing': 929,\n",
              " 'huge': 930,\n",
              " 'gets': 931,\n",
              " 'html': 932,\n",
              " 'couple': 933,\n",
              " '25': 934,\n",
              " 'among': 935,\n",
              " 'civil': 936,\n",
              " 'warring': 937,\n",
              " 'supposed': 938,\n",
              " 'primary': 939,\n",
              " 'except': 940,\n",
              " 'head': 941,\n",
              " 'countries': 942,\n",
              " 'born': 943,\n",
              " 'meant': 944,\n",
              " 'modern': 945,\n",
              " '50': 946,\n",
              " 'photo': 947,\n",
              " 'described': 948,\n",
              " 'incorrect': 949,\n",
              " 'fish': 950,\n",
              " 'uses': 951,\n",
              " 'disruptive': 952,\n",
              " 'significant': 953,\n",
              " 'field': 954,\n",
              " 'specifically': 955,\n",
              " 'red': 956,\n",
              " 'purpose': 957,\n",
              " 'pillars': 958,\n",
              " 'friend': 959,\n",
              " 'release': 960,\n",
              " 'archive': 961,\n",
              " 'million': 962,\n",
              " 'produce': 963,\n",
              " 'tv': 964,\n",
              " 'error': 965,\n",
              " 'force': 966,\n",
              " 'table': 967,\n",
              " 'earlier': 968,\n",
              " 'business': 969,\n",
              " 'computer': 970,\n",
              " 'june': 971,\n",
              " 'sometimes': 972,\n",
              " 'half': 973,\n",
              " 'cases': 974,\n",
              " 'outside': 975,\n",
              " 'vote': 976,\n",
              " 'x': 977,\n",
              " 'inclusion': 978,\n",
              " 'particularly': 979,\n",
              " 'character': 980,\n",
              " 'pictures': 981,\n",
              " 'gave': 982,\n",
              " 'linked': 983,\n",
              " 'abuse': 984,\n",
              " '27': 985,\n",
              " 'control': 986,\n",
              " 'possibly': 987,\n",
              " 'numbers': 988,\n",
              " 'home': 989,\n",
              " 'anonymous': 990,\n",
              " 'member': 991,\n",
              " 'january': 992,\n",
              " 'christian': 993,\n",
              " 'scientific': 994,\n",
              " 'arguments': 995,\n",
              " 'tutorial': 996,\n",
              " '2012': 997,\n",
              " 'n': 998,\n",
              " 'reported': 999,\n",
              " 'border': 1000,\n",
              " ...}"
            ]
          },
          "metadata": {
            "tags": []
          },
          "execution_count": 75
        }
      ]
    },
    {
      "cell_type": "markdown",
      "metadata": {
        "id": "1RnuaHVOPXPk"
      },
      "source": [
        "Получаем число символов, соотвествующих каждому слову в тестовых комментариях"
      ]
    },
    {
      "cell_type": "code",
      "metadata": {
        "id": "uojrZdVyPS_9"
      },
      "source": [
        "sequences = my_tokenizer.texts_to_sequences(comments)"
      ],
      "execution_count": null,
      "outputs": []
    },
    {
      "cell_type": "markdown",
      "metadata": {
        "id": "g2s5OnS3QNAs"
      },
      "source": [
        "Вот пример одного такого комментария:"
      ]
    },
    {
      "cell_type": "code",
      "metadata": {
        "colab": {
          "base_uri": "https://localhost:8080/"
        },
        "id": "mmACFS3AQTf0",
        "outputId": "6abd0126-7ca4-450a-ccff-f7b07bb02fc3"
      },
      "source": [
        "sequences[1]"
      ],
      "execution_count": null,
      "outputs": [
        {
          "output_type": "execute_result",
          "data": {
            "text/plain": [
              "[52,\n",
              " 2635,\n",
              " 13,\n",
              " 555,\n",
              " 3809,\n",
              " 73,\n",
              " 4556,\n",
              " 2706,\n",
              " 21,\n",
              " 94,\n",
              " 38,\n",
              " 803,\n",
              " 2679,\n",
              " 992,\n",
              " 589,\n",
              " 8377,\n",
              " 182]"
            ]
          },
          "metadata": {
            "tags": []
          },
          "execution_count": 78
        }
      ]
    },
    {
      "cell_type": "markdown",
      "metadata": {
        "id": "lxRGenOaRRXu"
      },
      "source": [
        "Получаем численное представление тестовых данных с максимальной длиной комментария в 50 символов"
      ]
    },
    {
      "cell_type": "code",
      "metadata": {
        "id": "iFiQvpqDQbbf"
      },
      "source": [
        "from keras.preprocessing.sequence import *\n",
        "\n",
        "\n",
        "x_train = pad_sequences(sequences, 50)"
      ],
      "execution_count": null,
      "outputs": []
    },
    {
      "cell_type": "code",
      "metadata": {
        "colab": {
          "base_uri": "https://localhost:8080/"
        },
        "id": "Ee3E-CY5RcGl",
        "outputId": "6b9398d0-be2b-4a9b-e28f-1e6723e7d20e"
      },
      "source": [
        "x_train[::]"
      ],
      "execution_count": null,
      "outputs": [
        {
          "output_type": "execute_result",
          "data": {
            "text/plain": [
              "array([[   0,    0,    0, ..., 4583, 2273,  985],\n",
              "       [   0,    0,    0, ...,  589, 8377,  182],\n",
              "       [   0,    0,    0, ...,    1,  737,  468],\n",
              "       ...,\n",
              "       [   0,    0,    0, ..., 8167, 3509, 4528],\n",
              "       [   0,    0,    0, ...,  151,   34,   11],\n",
              "       [   0,    0,    0, ..., 1627, 2056,   88]], dtype=int32)"
            ]
          },
          "metadata": {
            "tags": []
          },
          "execution_count": 80
        }
      ]
    },
    {
      "cell_type": "markdown",
      "metadata": {
        "id": "oFEPbSBbRyBe"
      },
      "source": [
        "Далее создаем модель последоваельной сети lstm"
      ]
    },
    {
      "cell_type": "code",
      "metadata": {
        "id": "pXPXxZvMSeh0"
      },
      "source": [
        "import numpy as np\n",
        "from keras.preprocessing import sequence\n",
        "from keras.models import Sequential\n",
        "from keras.layers import Dense, Activation, Embedding, SpatialDropout1D\n",
        "from keras.layers import LSTM\n",
        "from keras.datasets import imdb"
      ],
      "execution_count": null,
      "outputs": []
    },
    {
      "cell_type": "code",
      "metadata": {
        "id": "DAUJ8nVmSxRD"
      },
      "source": [
        "model = Sequential()"
      ],
      "execution_count": null,
      "outputs": []
    },
    {
      "cell_type": "code",
      "metadata": {
        "id": "s74SyJdqS6ig"
      },
      "source": [
        "model.add(Embedding(10000, 128, input_length=50))\n",
        "model.add(SpatialDropout1D(0.5))"
      ],
      "execution_count": null,
      "outputs": []
    },
    {
      "cell_type": "markdown",
      "metadata": {
        "id": "8cxPH_epW01v"
      },
      "source": [
        "1.   Добавляем слой долго-краткосрочной памяти\n",
        "2.   Добавляем полносвязный слой из 1 элемента для классификации, в качестве функции активации будем использовать сигмоидальную функцию\n",
        "3.   Компилируем модель\n",
        "\n"
      ]
    },
    {
      "cell_type": "markdown",
      "metadata": {
        "id": "gnb7sm3DWq2Q"
      },
      "source": [
        "Компилируем"
      ]
    },
    {
      "cell_type": "code",
      "metadata": {
        "id": "eUMqLeJYUj7s"
      },
      "source": [
        "model.add(LSTM(40, return_sequences=True))\n",
        "model.add(LSTM(40))\n",
        "model.add(Dense(6, activation=\"sigmoid\"))\n",
        "model.compile(loss = 'binary_crossentropy',\n",
        "               optimizer = 'adam',\n",
        "               metrics = ['accuracy'])"
      ],
      "execution_count": null,
      "outputs": []
    },
    {
      "cell_type": "markdown",
      "metadata": {
        "id": "01wolMXvVpgH"
      },
      "source": [
        "Делаем чекпоинт c флагом save_best_only для сохранения самой качественной эпохи"
      ]
    },
    {
      "cell_type": "code",
      "metadata": {
        "id": "P91GvytaVYPL"
      },
      "source": [
        "from keras.callbacks import *\n",
        "\n",
        "\n",
        "h5 = \"model.h5\"\n",
        "model_checkpoint = ModelCheckpoint(h5,\n",
        "                                   monitor=\"val_accuracy\",\n",
        "                                   save_best_only=True,\n",
        "                                   verbose=0.2)\n"
      ],
      "execution_count": null,
      "outputs": []
    },
    {
      "cell_type": "markdown",
      "metadata": {
        "id": "ElLOJkIaqgvX"
      },
      "source": [
        "Обучаем нейронную сеть (данные для обучения, ответы к данным для обучения, число эпох обучения, количество рецензий после анализа которого будут изменены веса,\n",
        "куда записывать колбек)"
      ]
    },
    {
      "cell_type": "code",
      "metadata": {
        "colab": {
          "base_uri": "https://localhost:8080/"
        },
        "id": "AsJxNadYqeCA",
        "outputId": "e322847a-757c-4f8a-9d64-e2d9f591ba4a"
      },
      "source": [
        "model.fit(x_train,\n",
        "          y_train,\n",
        "          epochs=7,\n",
        "          batch_size=256,\n",
        "          validation_split=0.2,\n",
        "          callbacks=[model_checkpoint])"
      ],
      "execution_count": null,
      "outputs": [
        {
          "output_type": "stream",
          "text": [
            "Epoch 1/7\n",
            "499/499 [==============================] - 18s 30ms/step - loss: 0.2101 - accuracy: 0.7426 - val_loss: 0.0643 - val_accuracy: 0.9935\n",
            "\n",
            "Epoch 00001: val_accuracy improved from -inf to 0.99351, saving model to model.h5\n",
            "Epoch 2/7\n",
            "499/499 [==============================] - 13s 26ms/step - loss: 0.0589 - accuracy: 0.9942 - val_loss: 0.0568 - val_accuracy: 0.9941\n",
            "\n",
            "Epoch 00002: val_accuracy improved from 0.99351 to 0.99411, saving model to model.h5\n",
            "Epoch 3/7\n",
            "499/499 [==============================] - 12s 25ms/step - loss: 0.0520 - accuracy: 0.9940 - val_loss: 0.0541 - val_accuracy: 0.9941\n",
            "\n",
            "Epoch 00003: val_accuracy did not improve from 0.99411\n",
            "Epoch 4/7\n",
            "499/499 [==============================] - 12s 24ms/step - loss: 0.0486 - accuracy: 0.9942 - val_loss: 0.0544 - val_accuracy: 0.9941\n",
            "\n",
            "Epoch 00004: val_accuracy did not improve from 0.99411\n",
            "Epoch 5/7\n",
            "499/499 [==============================] - 12s 25ms/step - loss: 0.0459 - accuracy: 0.9943 - val_loss: 0.0542 - val_accuracy: 0.9940\n",
            "\n",
            "Epoch 00005: val_accuracy did not improve from 0.99411\n",
            "Epoch 6/7\n",
            "499/499 [==============================] - 13s 27ms/step - loss: 0.0443 - accuracy: 0.9940 - val_loss: 0.0551 - val_accuracy: 0.9941\n",
            "\n",
            "Epoch 00006: val_accuracy did not improve from 0.99411\n",
            "Epoch 7/7\n",
            "499/499 [==============================] - 13s 26ms/step - loss: 0.0434 - accuracy: 0.9940 - val_loss: 0.0559 - val_accuracy: 0.9941\n",
            "\n",
            "Epoch 00007: val_accuracy did not improve from 0.99411\n"
          ],
          "name": "stdout"
        },
        {
          "output_type": "execute_result",
          "data": {
            "text/plain": [
              "<keras.callbacks.History at 0x7f6fb21344d0>"
            ]
          },
          "metadata": {
            "tags": []
          },
          "execution_count": 94
        }
      ]
    },
    {
      "cell_type": "markdown",
      "metadata": {
        "id": "ZoEEDcomtLMH"
      },
      "source": [
        "Загрузим тестовые комментарии и объединим их с таблицей ответов по id, далее оставим только те, где столбец toxic != -1 "
      ]
    },
    {
      "cell_type": "code",
      "metadata": {
        "id": "YfgclONGtmzD"
      },
      "source": [
        "comments_test = pd.read_csv(\"test.csv\")\n",
        "comments_labels = pd.read_csv(\"test_labels.csv\")\n",
        "\n",
        "comments_test_with_labels = pd.merge(comments_test, comments_labels, on=\"id\")\n",
        "toxic = comments_test_with_labels[\"toxic\"]\n",
        "comments_test_without_toxic = comments_test_with_labels[toxic != -1]"
      ],
      "execution_count": null,
      "outputs": []
    },
    {
      "cell_type": "markdown",
      "metadata": {
        "id": "Pj7svnehuaXY"
      },
      "source": [
        "Преобразуем в числовое представление"
      ]
    },
    {
      "cell_type": "code",
      "metadata": {
        "id": "xv1S3KgEudOJ"
      },
      "source": [
        "sequences_test = my_tokenizer.texts_to_sequences(comments_test_without_toxic[\"comment_text\"])\n",
        "\n",
        "x_test = pad_sequences(sequences_test, maxlen=50)\n",
        "y_test = comments_test_without_toxic[[\"toxic\", \"severe_toxic\", \"obscene\", \"threat\", \"insult\", \"identity_hate\"]]"
      ],
      "execution_count": null,
      "outputs": []
    },
    {
      "cell_type": "markdown",
      "metadata": {
        "id": "IOyIJGekwYs2"
      },
      "source": [
        "Протестируем нейросеть:"
      ]
    },
    {
      "cell_type": "code",
      "metadata": {
        "colab": {
          "base_uri": "https://localhost:8080/"
        },
        "id": "qxaFh14gwc-y",
        "outputId": "4f13153a-45ed-4039-88fd-8b3a3b4b652e"
      },
      "source": [
        "model.load_weights(h5)\n",
        "model.evaluate(x_test, y_test, verbose=0.2)"
      ],
      "execution_count": null,
      "outputs": [
        {
          "output_type": "execute_result",
          "data": {
            "text/plain": [
              "[0.08075769245624542, 0.9976085424423218]"
            ]
          },
          "metadata": {
            "tags": []
          },
          "execution_count": 97
        }
      ]
    },
    {
      "cell_type": "code",
      "metadata": {
        "colab": {
          "base_uri": "https://localhost:8080/"
        },
        "id": "0n6mxncgwwH5",
        "outputId": "9e876943-d17e-4336-8b8d-7702563e1897"
      },
      "source": [
        "my_test_non_toxic_comment = \"Hello world!\"\n",
        "my_test_toxic_comment = \"I will kill u\"\n",
        "first_sequence = my_tokenizer.texts_to_sequences([my_test_non_toxic_comment, my_test_toxic_comment])\n",
        "pad_seq = pad_sequences(first_sequence, maxlen=50)\n",
        "result = model.predict(pad_seq)\n",
        "result"
      ],
      "execution_count": null,
      "outputs": [
        {
          "output_type": "execute_result",
          "data": {
            "text/plain": [
              "array([[0.25482798, 0.00238616, 0.04821115, 0.00354104, 0.06246819,\n",
              "        0.01111174],\n",
              "       [0.9054299 , 0.04156527, 0.60767466, 0.01921766, 0.6072712 ,\n",
              "        0.05967374]], dtype=float32)"
            ]
          },
          "metadata": {
            "tags": []
          },
          "execution_count": 103
        }
      ]
    }
  ]
}